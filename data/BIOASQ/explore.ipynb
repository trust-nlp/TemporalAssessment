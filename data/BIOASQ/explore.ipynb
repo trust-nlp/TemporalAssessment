{
 "cells": [
  {
   "cell_type": "code",
   "execution_count": 2,
   "metadata": {},
   "outputs": [
    {
     "data": {
      "text/plain": [
       "id              object\n",
       "body            object\n",
       "exact_answer    object\n",
       "ideal_answer    object\n",
       "type            object\n",
       "snippets        object\n",
       "year             int64\n",
       "dtype: object"
      ]
     },
     "execution_count": 2,
     "metadata": {},
     "output_type": "execute_result"
    }
   ],
   "source": [
    "import pandas as pd\n",
    "import os\n",
    "\n",
    "df = pd.read_json('/home/weisi/TemporalAssessment/data/BIOASQ/BioASQ.json', lines=True)\n",
    "df.dtypes"
   ]
  },
  {
   "cell_type": "code",
   "execution_count": 3,
   "metadata": {},
   "outputs": [
    {
     "name": "stdout",
     "output_type": "stream",
     "text": [
      "2013-2015: average snippets length = 2927.531100478469\n",
      "2016-2018: average snippets length = 2784.477501678979\n",
      "2019-2020: average snippets length = 1649.7530120481927\n",
      "2021-2022: average snippets length = 2181.5214285714287\n"
     ]
    }
   ],
   "source": [
    "\n",
    "# calculate snippets length\n",
    "df['snippets_length'] = df['snippets'].apply(len)\n",
    "\n",
    "intervals = {\n",
    "    '2013-2015': (2013, 2015),\n",
    "    '2016-2018': (2016, 2018),\n",
    "    '2019-2020': (2019, 2020),\n",
    "    '2021-2022': (2021, 2022),\n",
    "}\n",
    "\n",
    "average_lengths = {}\n",
    "\n",
    "\n",
    "for interval, (start_year, end_year) in intervals.items():\n",
    "    interval_data = df[(df['year'] >= start_year) & (df['year'] <= end_year)]\n",
    "    average_length = interval_data['snippets_length'].mean()\n",
    "    average_lengths[interval] = average_length\n",
    "\n",
    "# 打印结果\n",
    "for interval, avg_length in average_lengths.items():\n",
    "    print(f\"{interval}: average snippets length = {avg_length}\")\n"
   ]
  },
  {
   "cell_type": "code",
   "execution_count": null,
   "metadata": {},
   "outputs": [],
   "source": [
    "# simplely split the text\n",
    "def tokenize(text):\n",
    "    return text.split()\n",
    "\n",
    "# save splitted tokens\n",
    "df['tokens'] = df['snippets'].apply(tokenize)"
   ]
  },
  {
   "cell_type": "code",
   "execution_count": 4,
   "metadata": {},
   "outputs": [
    {
     "name": "stdout",
     "output_type": "stream",
     "text": [
      "Unique words count for 2013-2015: 54162\n",
      "Unique words count for 2016-2018: 54129\n",
      "Unique words count for 2019-2020: 28701\n",
      "Unique words count for 2021-2022: 37949\n",
      "Overlap between 2013-2015 and 2016-2018: 19393 words\n",
      "Overlap between 2013-2015 and 2019-2020: 12997 words\n",
      "Overlap between 2013-2015 and 2021-2022: 15256 words\n",
      "Overlap between 2016-2018 and 2019-2020: 13851 words\n",
      "Overlap between 2016-2018 and 2021-2022: 15977 words\n",
      "Overlap between 2019-2020 and 2021-2022: 12104 words\n"
     ]
    }
   ],
   "source": [
    "\n",
    "unique_words_by_interval = {}\n",
    "\n",
    "for interval, (start_year, end_year) in intervals.items():\n",
    "    interval_data = df[(df['year'] >= start_year) & (df['year'] <= end_year)]\n",
    "    unique_words = set(word for tokens in interval_data['tokens'] for word in tokens)\n",
    "    unique_words_by_interval[interval] = unique_words\n",
    "\n",
    "    print(f\"Unique words count for {interval}: {len(unique_words)}\")\n",
    "\n",
    "for interval_a, words_a in unique_words_by_interval.items():\n",
    "    for interval_b, words_b in unique_words_by_interval.items():\n",
    "        if interval_a < interval_b:  # avoid compare same pair twice\n",
    "            intersection = words_a.intersection(words_b)\n",
    "            print(f\"Overlap between {interval_a} and {interval_b}: {len(intersection)} words\")"
   ]
  }
 ],
 "metadata": {
  "kernelspec": {
   "display_name": "tempo0",
   "language": "python",
   "name": "python3"
  },
  "language_info": {
   "codemirror_mode": {
    "name": "ipython",
    "version": 3
   },
   "file_extension": ".py",
   "mimetype": "text/x-python",
   "name": "python",
   "nbconvert_exporter": "python",
   "pygments_lexer": "ipython3",
   "version": "3.10.13"
  },
  "orig_nbformat": 4
 },
 "nbformat": 4,
 "nbformat_minor": 2
}
