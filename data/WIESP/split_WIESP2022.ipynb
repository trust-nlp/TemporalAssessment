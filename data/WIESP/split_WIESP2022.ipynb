{
 "cells": [
  {
   "cell_type": "code",
   "execution_count": 2,
   "metadata": {},
   "outputs": [
    {
     "name": "stderr",
     "output_type": "stream",
     "text": [
      "/home/weisi/anaconda3/envs/env310/lib/python3.10/site-packages/tqdm/auto.py:21: TqdmWarning: IProgress not found. Please update jupyter and ipywidgets. See https://ipywidgets.readthedocs.io/en/stable/user_install.html\n",
      "  from .autonotebook import tqdm as notebook_tqdm\n",
      "Found cached dataset parquet (/HDD16TB/models/huggingface/datasets/adsabs___parquet/fgrezes--WIESP2022-NER-7ede0456e2865c5d/0.0.0/2a3b91fbd88a2c90d1dbbb32b460cf621d31bd5b05b934492fdef7d8d6f236ec)\n",
      "100%|██████████| 3/3 [00:00<00:00, 803.76it/s]\n"
     ]
    },
    {
     "name": "stdout",
     "output_type": "stream",
     "text": [
      "year\n",
      "2015     495\n",
      "2016    1033\n",
      "2017    1014\n",
      "2018    1027\n",
      "2019    1099\n",
      "2020     623\n",
      "2021     333\n",
      "dtype: int64\n"
     ]
    }
   ],
   "source": [
    "from datasets import load_dataset\n",
    "import pandas as pd\n",
    "import json\n",
    "\n",
    "\n",
    "dataset = load_dataset(\"adsabs/WIESP2022-NER\")\n",
    "\n",
    "splits = [\"train\", \"test\", \"validation\"]\n",
    "all_data = []\n",
    "\n",
    "for split in splits:\n",
    "    if split in dataset:\n",
    "        filename = f\"WIESP2022-NER-{split}.jsonl\"\n",
    "        with open(filename, \"w\", encoding=\"utf-8\") as file:\n",
    "            for item in dataset[split]:\n",
    "                year = item[\"bibcode\"][:4]\n",
    "                item[\"year\"] = year  #add key \"time\" by extacting year from bibcode.\n",
    "                all_data.append(item)\n",
    "                file.write(json.dumps(item, ensure_ascii=False) + \"\\n\")\n",
    "    else:\n",
    "        print(f\"'{split}' subset not found in the dataset.\")  \n",
    "\n",
    "df = pd.DataFrame(all_data)\n",
    "df['year'] = df['year'].astype(int)\n",
    "print(df.groupby(\"year\").size())\n",
    "\n"
   ]
  },
  {
   "cell_type": "code",
   "execution_count": 3,
   "metadata": {},
   "outputs": [],
   "source": [
    "import os\n",
    "from sklearn.model_selection import train_test_split\n",
    "\n",
    "folder_path = '/home/weisi/Temporal/data/WIESP'\n",
    "if not os.path.exists(folder_path):\n",
    "    os.makedirs(folder_path)\n",
    "\n",
    "# devide dataset to 3 time periods\n",
    "df_2015_2016 = df[df['year'] < 2017]\n",
    "df_2017_2018 = df[df['year'].isin([2017, 2018])]\n",
    "df_2019_2021 = df[df['year'] > 2018]\n",
    "\n",
    "# reduce the datasets to the same size\n",
    "min_size = min(len(df_2015_2016), len(df_2017_2018), len(df_2019_2021))\n",
    "\n",
    "\n",
    "df_2015_2016_sampled = df_2015_2016.sample(n=min_size, random_state=1)\n",
    "df_2017_2018_sampled = df_2017_2018.sample(n=min_size, random_state=1)\n",
    "df_2019_2021_sampled = df_2019_2021.sample(n=min_size, random_state=1)\n",
    "\n",
    "\n",
    "def save_datasets(df, period):\n",
    "    # split train and test datasets\n",
    "    train, validation = train_test_split(df, test_size=0.2, random_state=1)\n",
    "    # save files\n",
    "    train_filename = f'wiesp_{period}_train.json'\n",
    "    validation_filename = f'wiesp_{period}_validation.json'\n",
    "    train.to_json(os.path.join(folder_path, train_filename), orient='records')\n",
    "    validation.to_json(os.path.join(folder_path, validation_filename), orient='records')\n",
    "\n",
    "\n",
    "save_datasets(df_2015_2016_sampled, 'T1_2015_2016')\n",
    "save_datasets(df_2017_2018_sampled, 'T2_2017_2018')\n",
    "save_datasets(df_2019_2021_sampled, 'T3_2019_2021')"
   ]
  }
 ],
 "metadata": {
  "kernelspec": {
   "display_name": "NACCL2024",
   "language": "python",
   "name": "python3"
  },
  "language_info": {
   "codemirror_mode": {
    "name": "ipython",
    "version": 3
   },
   "file_extension": ".py",
   "mimetype": "text/x-python",
   "name": "python",
   "nbconvert_exporter": "python",
   "pygments_lexer": "ipython3",
   "version": "3.10.13"
  },
  "orig_nbformat": 4
 },
 "nbformat": 4,
 "nbformat_minor": 2
}
