{
 "cells": [
  {
   "cell_type": "code",
   "execution_count": 5,
   "metadata": {},
   "outputs": [],
   "source": [
    "import json\n",
    "import pandas as pd\n",
    "from sklearn.model_selection import train_test_split\n",
    "\n",
    "\n",
    "with open('/home/weisi/Temporal/data/amazonQA/HC/QA_amazonHC_YN_2013.json', 'r', encoding='utf-8') as file:\n",
    "    data = json.load(file)\n",
    "df = pd.DataFrame(data)\n",
    "train_df, valid_df = train_test_split(df, test_size=0.2)\n",
    "\n",
    "train_df.to_json('/home/weisi/Temporal/data/amazonQA/HC/QA_amazonHC_YN_2013_train.json', orient='records')\n",
    "valid_df.to_json('/home/weisi/Temporal/data/amazonQA/HC/QA_amazonHC_YN_2013_validation.json', orient='records')\n",
    "#train_df.to_json('/home/weisi/Temporal/data/amazonQA/HC/QA_amazonHC_YN_2013_train.jsonl', orient='records', lines=True)"
   ]
  },
  {
   "cell_type": "code",
   "execution_count": 4,
   "metadata": {},
   "outputs": [],
   "source": [
    "train_df.to_json('/home/weisi/Temporal/data/amazonQA/HC/QA_amazonHC_YN_2013_train.jsonl', orient='records', lines=True)"
   ]
  }
 ],
 "metadata": {
  "kernelspec": {
   "display_name": "env310",
   "language": "python",
   "name": "python3"
  },
  "language_info": {
   "codemirror_mode": {
    "name": "ipython",
    "version": 3
   },
   "file_extension": ".py",
   "mimetype": "text/x-python",
   "name": "python",
   "nbconvert_exporter": "python",
   "pygments_lexer": "ipython3",
   "version": "3.10.13"
  }
 },
 "nbformat": 4,
 "nbformat_minor": 2
}
