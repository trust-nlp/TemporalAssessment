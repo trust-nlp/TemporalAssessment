{
 "cells": [
  {
   "cell_type": "code",
   "execution_count": 1,
   "metadata": {},
   "outputs": [
    {
     "name": "stdout",
     "output_type": "stream",
     "text": [
      "year\n",
      "2014      174\n",
      "2015      279\n",
      "2016      324\n",
      "2017     3365\n",
      "2018    23805\n",
      "2019    11094\n",
      "2020      285\n",
      "2021       34\n",
      "dtype: int64\n"
     ]
    }
   ],
   "source": [
    "import pandas as pd\n",
    "\n",
    "df = pd.read_json('/home/weisi/Temporal/data/BIONLP/bionlp.jsonl', lines=True)\n",
    "\n",
    "\n",
    "df['pmid'] = df['id']\n",
    "df['id'] = [format(i, 'x') for i in range(len(df))]\n",
    "df['context'] = df['long']\n",
    "df['answer'] = df.apply(lambda x: {'text': [x['short']]}, axis=1)\n",
    "\n",
    "df = df[['id', 'pmid', 'question', 'context', 'answer', 'year']]\n",
    "\n",
    "year_counts = df.groupby('year').size()\n",
    "print(year_counts)\n",
    "\n"
   ]
  },
  {
   "cell_type": "code",
   "execution_count": 2,
   "metadata": {},
   "outputs": [],
   "source": [
    "\n",
    "def save_data(data, filename):\n",
    "    data.to_json(filename, orient='records')\n",
    "\n",
    "\n",
    "def split_and_save_data(df, year):\n",
    "    # select year and random\n",
    "    df_year = df[df['year'] == year].sample(frac=1).reset_index(drop=True)\n",
    "\n",
    "    # 0.7 0.15 0.15\n",
    "    train_split = int(0.7 * len(df_year))\n",
    "    val_split = int(0.85 * len(df_year))\n",
    "\n",
    "    train_data = df_year.iloc[:train_split]\n",
    "    val_data = df_year.iloc[train_split:val_split]\n",
    "    test_data = df_year.iloc[val_split:]\n",
    "\n",
    "    save_data(train_data, f'bionlp_{year}_train.json')\n",
    "    save_data(val_data, f'bionlp_{year}_val.json')\n",
    "    save_data(test_data, f'bionlp_{year}_test.json')\n",
    "\n",
    "'''for year in df['year'].unique():\n",
    "    split_and_save_data(df, year)'''\n",
    "\n",
    "'''for year in range(2012, 2016):\n",
    "    split_and_save_data(df, year)'''\n",
    "\n",
    "split_and_save_data(df, 2017)"
   ]
  }
 ],
 "metadata": {
  "kernelspec": {
   "display_name": "env310",
   "language": "python",
   "name": "python3"
  },
  "language_info": {
   "codemirror_mode": {
    "name": "ipython",
    "version": 3
   },
   "file_extension": ".py",
   "mimetype": "text/x-python",
   "name": "python",
   "nbconvert_exporter": "python",
   "pygments_lexer": "ipython3",
   "version": "3.10.13"
  }
 },
 "nbformat": 4,
 "nbformat_minor": 2
}
