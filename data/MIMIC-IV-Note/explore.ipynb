{
 "cells": [
  {
   "cell_type": "code",
   "execution_count": null,
   "metadata": {},
   "outputs": [],
   "source": [
    "import json\n",
    "import pandas as pd\n",
    "with open('/home/weisi/Temporal/data/MIMIC-IV-Note/mimic-top50.json', 'r', encoding='utf-8') as f:\n",
    "    df=pd.read_json(f,lines=True)"
   ]
  }
 ],
 "metadata": {
  "language_info": {
   "name": "python"
  }
 },
 "nbformat": 4,
 "nbformat_minor": 2
}
