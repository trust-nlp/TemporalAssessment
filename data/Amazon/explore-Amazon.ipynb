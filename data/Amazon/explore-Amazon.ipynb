{
 "cells": [
  {
   "cell_type": "code",
   "execution_count": 1,
   "metadata": {},
   "outputs": [],
   "source": [
    "import pandas as pd\n",
    "import json\n",
    "import os\n",
    "from collections import Counter\n",
    "import re\n",
    "from dateutil.parser import parse\n",
    "import xmltodict\n",
    "import yaml\n",
    "import sys\n",
    "import glob\n",
    "import ast\n",
    "from datetime import datetime\n",
    "from dataproc import preprocess\n",
    "from tqdm import tqdm\n",
    "import numpy as np\n",
    "\n",
    "import matplotlib.pyplot as plt\n",
    "import seaborn as sns\n",
    "import gzip"
   ]
  },
  {
   "cell_type": "code",
   "execution_count": null,
   "metadata": {},
   "outputs": [],
   "source": [
    "path='/HDD16TB/weisi/amazon_us_reviews/Health_Personal_Care_v1_00/0.1.0/reviews_Health_and_Personal_Care_5.json.gz'\n",
    "\n",
    "with gzip.open(path,'rt') as f:\n",
    "    df=pd.read_json(f,lines=True)\n",
    "\n",
    "df.head"
   ]
  },
  {
   "cell_type": "code",
   "execution_count": null,
   "metadata": {},
   "outputs": [],
   "source": [
    "print(df.iloc[0])\n",
    "print(df.at[0,'reviewText'])"
   ]
  },
  {
   "cell_type": "code",
   "execution_count": null,
   "metadata": {},
   "outputs": [],
   "source": [
    "tqdm.pandas()#sets up the tqdm progress bar for tracking the progress of the following operation\n",
    "df.reviewText = df.reviewText.progress_apply(lambda x: preprocess.clean_and_tokenize(x))\n",
    "\n",
    "#join the list of tokens back into a single string with space-separated words.\n",
    "df.reviewText = df.reviewText.apply(lambda x: ' '.join(x))"
   ]
  },
  {
   "cell_type": "code",
   "execution_count": null,
   "metadata": {},
   "outputs": [],
   "source": []
  },
  {
   "cell_type": "code",
   "execution_count": null,
   "metadata": {},
   "outputs": [],
   "source": [
    "def convert_to_iso(date_str):\n",
    "    date_obj = datetime.strptime(date_str, '%m %d, %Y')\n",
    "    return date_obj.strftime('%Y-%m-%d')\n",
    "\n",
    "df['reviewTime'] = df['reviewTime'].apply(convert_to_iso)"
   ]
  },
  {
   "cell_type": "code",
   "execution_count": null,
   "metadata": {},
   "outputs": [],
   "source": [
    "df['reviewTime'].unique()"
   ]
  },
  {
   "cell_type": "code",
   "execution_count": null,
   "metadata": {},
   "outputs": [],
   "source": [
    "df['year'] =  pd.to_datetime(df['reviewTime']).dt.year\n",
    "yearly_counts = df.groupby('year').size()\n",
    "\n",
    "print(yearly_counts)\n",
    "#2000-2008: 7849  \n",
    "#2009      6995\n",
    "#2010     13282\n",
    "#2011     25834\n",
    "#2012     48283\n",
    "#2013    141435\n",
    "#2014    102677\n",
    "\n",
    "#2000-2011 53960 train 2014 test?"
   ]
  },
  {
   "cell_type": "code",
   "execution_count": null,
   "metadata": {},
   "outputs": [],
   "source": [
    "df.head()"
   ]
  },
  {
   "cell_type": "code",
   "execution_count": null,
   "metadata": {},
   "outputs": [],
   "source": [
    "df.at[1,\"reviewerName\"]\n",
    "df.at[7,\"reviewerName\"] # reviewerName has repeated name and sybols like \" and\\ ;didn't process it because we won't use it"
   ]
  },
  {
   "cell_type": "code",
   "execution_count": null,
   "metadata": {},
   "outputs": [],
   "source": [
    "df['helpful'].astype(str).unique()"
   ]
  },
  {
   "cell_type": "code",
   "execution_count": null,
   "metadata": {},
   "outputs": [],
   "source": [
    "# Rename columns\n",
    "df = df.rename(columns={\n",
    "    \"reviewerID\": \"uid\",\n",
    "    \"reviewText\": \"text\",\n",
    "    \"reviewTime\": \"time\"\n",
    "})\n",
    "\n",
    "\n",
    "df.iloc[1213]"
   ]
  },
  {
   "cell_type": "code",
   "execution_count": null,
   "metadata": {},
   "outputs": [],
   "source": [
    "\n",
    "# Write the dataframe to a JSON file\n",
    "with open('amazon.json', 'w') as wfile:\n",
    "    wfile.write(df.to_json(orient='records', lines=True))"
   ]
  },
  {
   "cell_type": "code",
   "execution_count": null,
   "metadata": {},
   "outputs": [],
   "source": [
    "\n"
   ]
  },
  {
   "cell_type": "markdown",
   "metadata": {},
   "source": [
    "video game 2018"
   ]
  },
  {
   "cell_type": "code",
   "execution_count": 2,
   "metadata": {},
   "outputs": [],
   "source": [
    "vgpath='/HDD16TB/weisi/Video_Games.json.gz'\n",
    "\n",
    "with gzip.open(vgpath,'rt') as f:\n",
    "    vgdf=pd.read_json(f,lines=True)\n",
    "\n",
    "#vgdf.head()"
   ]
  },
  {
   "cell_type": "code",
   "execution_count": 3,
   "metadata": {},
   "outputs": [
    {
     "data": {
      "text/html": [
       "<div>\n",
       "<style scoped>\n",
       "    .dataframe tbody tr th:only-of-type {\n",
       "        vertical-align: middle;\n",
       "    }\n",
       "\n",
       "    .dataframe tbody tr th {\n",
       "        vertical-align: top;\n",
       "    }\n",
       "\n",
       "    .dataframe thead th {\n",
       "        text-align: right;\n",
       "    }\n",
       "</style>\n",
       "<table border=\"1\" class=\"dataframe\">\n",
       "  <thead>\n",
       "    <tr style=\"text-align: right;\">\n",
       "      <th></th>\n",
       "      <th>overall</th>\n",
       "      <th>verified</th>\n",
       "      <th>reviewTime</th>\n",
       "      <th>reviewerID</th>\n",
       "      <th>asin</th>\n",
       "      <th>reviewerName</th>\n",
       "      <th>reviewText</th>\n",
       "      <th>summary</th>\n",
       "      <th>unixReviewTime</th>\n",
       "      <th>vote</th>\n",
       "      <th>style</th>\n",
       "      <th>image</th>\n",
       "    </tr>\n",
       "  </thead>\n",
       "  <tbody>\n",
       "    <tr>\n",
       "      <th>0</th>\n",
       "      <td>1</td>\n",
       "      <td>True</td>\n",
       "      <td>06 9, 2014</td>\n",
       "      <td>A21ROB4YDOZA5P</td>\n",
       "      <td>0439381673</td>\n",
       "      <td>Mary M. Clark</td>\n",
       "      <td>I used to play this game years ago and loved i...</td>\n",
       "      <td>Did not like this</td>\n",
       "      <td>1402272000</td>\n",
       "      <td>x</td>\n",
       "      <td>x</td>\n",
       "      <td>x</td>\n",
       "    </tr>\n",
       "    <tr>\n",
       "      <th>1</th>\n",
       "      <td>3</td>\n",
       "      <td>True</td>\n",
       "      <td>05 10, 2014</td>\n",
       "      <td>A3TNZ2Q5E7HTHD</td>\n",
       "      <td>0439381673</td>\n",
       "      <td>Sarabatya</td>\n",
       "      <td>The game itself worked great but the story lin...</td>\n",
       "      <td>Almost Perfect</td>\n",
       "      <td>1399680000</td>\n",
       "      <td>x</td>\n",
       "      <td>x</td>\n",
       "      <td>x</td>\n",
       "    </tr>\n",
       "    <tr>\n",
       "      <th>2</th>\n",
       "      <td>4</td>\n",
       "      <td>True</td>\n",
       "      <td>02 7, 2014</td>\n",
       "      <td>A1OKRM3QFEATQO</td>\n",
       "      <td>0439381673</td>\n",
       "      <td>Amazon Customer</td>\n",
       "      <td>I had to learn the hard way after ordering thi...</td>\n",
       "      <td>DOES NOT WORK WITH MAC OS unless it is 10.3 or...</td>\n",
       "      <td>1391731200</td>\n",
       "      <td>15</td>\n",
       "      <td>x</td>\n",
       "      <td>x</td>\n",
       "    </tr>\n",
       "    <tr>\n",
       "      <th>3</th>\n",
       "      <td>1</td>\n",
       "      <td>True</td>\n",
       "      <td>02 7, 2014</td>\n",
       "      <td>A2XO1JFCNEYV3T</td>\n",
       "      <td>0439381673</td>\n",
       "      <td>ColoradoPartyof5</td>\n",
       "      <td>The product description should state this clea...</td>\n",
       "      <td>does not work on Mac OSX</td>\n",
       "      <td>1391731200</td>\n",
       "      <td>11</td>\n",
       "      <td>x</td>\n",
       "      <td>x</td>\n",
       "    </tr>\n",
       "    <tr>\n",
       "      <th>4</th>\n",
       "      <td>4</td>\n",
       "      <td>True</td>\n",
       "      <td>01 16, 2014</td>\n",
       "      <td>A19WLPIRHD15TH</td>\n",
       "      <td>0439381673</td>\n",
       "      <td>Karen Robinson</td>\n",
       "      <td>I would recommend this learning game for anyon...</td>\n",
       "      <td>Roughing it</td>\n",
       "      <td>1389830400</td>\n",
       "      <td>x</td>\n",
       "      <td>x</td>\n",
       "      <td>x</td>\n",
       "    </tr>\n",
       "  </tbody>\n",
       "</table>\n",
       "</div>"
      ],
      "text/plain": [
       "   overall  verified   reviewTime      reviewerID        asin  \\\n",
       "0        1      True   06 9, 2014  A21ROB4YDOZA5P  0439381673   \n",
       "1        3      True  05 10, 2014  A3TNZ2Q5E7HTHD  0439381673   \n",
       "2        4      True   02 7, 2014  A1OKRM3QFEATQO  0439381673   \n",
       "3        1      True   02 7, 2014  A2XO1JFCNEYV3T  0439381673   \n",
       "4        4      True  01 16, 2014  A19WLPIRHD15TH  0439381673   \n",
       "\n",
       "       reviewerName                                         reviewText  \\\n",
       "0     Mary M. Clark  I used to play this game years ago and loved i...   \n",
       "1         Sarabatya  The game itself worked great but the story lin...   \n",
       "2   Amazon Customer  I had to learn the hard way after ordering thi...   \n",
       "3  ColoradoPartyof5  The product description should state this clea...   \n",
       "4    Karen Robinson  I would recommend this learning game for anyon...   \n",
       "\n",
       "                                             summary  unixReviewTime vote  \\\n",
       "0                                  Did not like this      1402272000    x   \n",
       "1                                     Almost Perfect      1399680000    x   \n",
       "2  DOES NOT WORK WITH MAC OS unless it is 10.3 or...      1391731200   15   \n",
       "3                           does not work on Mac OSX      1391731200   11   \n",
       "4                                        Roughing it      1389830400    x   \n",
       "\n",
       "  style image  \n",
       "0     x     x  \n",
       "1     x     x  \n",
       "2     x     x  \n",
       "3     x     x  \n",
       "4     x     x  "
      ]
     },
     "execution_count": 3,
     "metadata": {},
     "output_type": "execute_result"
    }
   ],
   "source": [
    "vgdf.fillna('x', inplace=True) #fills missing (NaN) values in the with the character 'x'\n",
    "vgdf.head()"
   ]
  },
  {
   "cell_type": "code",
   "execution_count": null,
   "metadata": {},
   "outputs": [],
   "source": [
    "tqdm.pandas()#sets up the tqdm progress bar for tracking the progress of the following operation\n",
    "vgdf.reviewText = vgdf.reviewText.progress_apply(lambda x: preprocess.clean_and_tokenize(x))\n",
    "\n",
    "#join the list of tokens back into a single string with space-separated words.\n",
    "vgdf.reviewText = vgdf.reviewText.apply(lambda x: ' '.join(x))\n",
    "\n",
    "\n"
   ]
  },
  {
   "cell_type": "code",
   "execution_count": 4,
   "metadata": {},
   "outputs": [],
   "source": [
    "def convert_to_iso(date_str):\n",
    "    date_obj = datetime.strptime(date_str, '%m %d, %Y')\n",
    "    return date_obj.strftime('%Y-%m-%d')\n",
    "\n",
    "vgdf['reviewTime'] = vgdf['reviewTime'].apply(convert_to_iso)\n",
    "\n",
    "vgdf['year'] =  pd.to_datetime(vgdf['reviewTime']).dt.year\n",
    "yearly_counts = vgdf.groupby('year').size()\n",
    "\n",
    "#print(yearly_counts)"
   ]
  },
  {
   "cell_type": "code",
   "execution_count": null,
   "metadata": {},
   "outputs": [],
   "source": [
    "vgdf.head()"
   ]
  },
  {
   "cell_type": "code",
   "execution_count": null,
   "metadata": {},
   "outputs": [],
   "source": [
    "print(vgdf.at[3246,'reviewText'])"
   ]
  },
  {
   "cell_type": "code",
   "execution_count": null,
   "metadata": {},
   "outputs": [],
   "source": [
    "vgdf_2000 = vgdf[vgdf['year'] == 2000]\n",
    "tqdm.pandas()#sets up the tqdm progress bar for tracking the progress of the following operation\n",
    "vgdf_2000.reviewText = vgdf_2000.reviewText.progress_apply(lambda x: preprocess.clean_and_tokenize(x))\n",
    "#join the list of tokens back into a single string with space-separated words.\n",
    "vgdf_2000.reviewText = vgdf_2000.reviewText.apply(lambda x: ' '.join(x))\n",
    "\n",
    "vgdf_2000 = vgdf_2000.rename(columns={\n",
    "    \"overall\": \"label\",\n",
    "    \"reviewText\": \"text\",\n",
    "    \"reviewTime\": \"time\"\n",
    "})\n",
    "\n",
    "\n",
    "vgdf_2000.to_json('amazonVG_2000.json', orient='records', lines=True)\n",
    "\n"
   ]
  },
  {
   "cell_type": "code",
   "execution_count": 12,
   "metadata": {},
   "outputs": [
    {
     "name": "stderr",
     "output_type": "stream",
     "text": [
      "  0%|          | 1/23073 [00:00<00:09, 2508.56it/s]\n"
     ]
    },
    {
     "ename": "AttributeError",
     "evalue": "module 'dataproc.preprocess' has no attribute 'fast_clean'",
     "output_type": "error",
     "traceback": [
      "\u001b[0;31m---------------------------------------------------------------------------\u001b[0m",
      "\u001b[0;31mAttributeError\u001b[0m                            Traceback (most recent call last)",
      "\u001b[1;32m/home/weisi/Temporal/data/explore-Amazon.ipynb Cell 23\u001b[0m line \u001b[0;36m4\n\u001b[1;32m      <a href='vscode-notebook-cell://ssh-remote%2B141.225.10.240/home/weisi/Temporal/data/explore-Amazon.ipynb#X35sdnNjb2RlLXJlbW90ZQ%3D%3D?line=1'>2</a>\u001b[0m vgdf_2001 \u001b[39m=\u001b[39m vgdf[vgdf[\u001b[39m'\u001b[39m\u001b[39myear\u001b[39m\u001b[39m'\u001b[39m] \u001b[39m==\u001b[39m \u001b[39m2001\u001b[39m]\u001b[39m#.sample(n=20000)\u001b[39;00m\n\u001b[1;32m      <a href='vscode-notebook-cell://ssh-remote%2B141.225.10.240/home/weisi/Temporal/data/explore-Amazon.ipynb#X35sdnNjb2RlLXJlbW90ZQ%3D%3D?line=2'>3</a>\u001b[0m tqdm\u001b[39m.\u001b[39mpandas()\u001b[39m#sets up the tqdm progress bar for tracking the progress of the following operation\u001b[39;00m\n\u001b[0;32m----> <a href='vscode-notebook-cell://ssh-remote%2B141.225.10.240/home/weisi/Temporal/data/explore-Amazon.ipynb#X35sdnNjb2RlLXJlbW90ZQ%3D%3D?line=3'>4</a>\u001b[0m vgdf_2001\u001b[39m.\u001b[39mreviewText \u001b[39m=\u001b[39m vgdf_2001\u001b[39m.\u001b[39;49mreviewText\u001b[39m.\u001b[39;49mprogress_apply(\u001b[39mlambda\u001b[39;49;00m x: preprocess\u001b[39m.\u001b[39;49mfast_clean(x))\n\u001b[1;32m      <a href='vscode-notebook-cell://ssh-remote%2B141.225.10.240/home/weisi/Temporal/data/explore-Amazon.ipynb#X35sdnNjb2RlLXJlbW90ZQ%3D%3D?line=4'>5</a>\u001b[0m \u001b[39m#join the list of tokens back into a single string with space-separated words.\u001b[39;00m\n\u001b[1;32m      <a href='vscode-notebook-cell://ssh-remote%2B141.225.10.240/home/weisi/Temporal/data/explore-Amazon.ipynb#X35sdnNjb2RlLXJlbW90ZQ%3D%3D?line=5'>6</a>\u001b[0m vgdf_2001\u001b[39m.\u001b[39mreviewText \u001b[39m=\u001b[39m vgdf_2001\u001b[39m.\u001b[39mreviewText\u001b[39m.\u001b[39mapply(\u001b[39mlambda\u001b[39;00m x: \u001b[39m'\u001b[39m\u001b[39m \u001b[39m\u001b[39m'\u001b[39m\u001b[39m.\u001b[39mjoin(x))\n",
      "File \u001b[0;32m~/anaconda3/envs/EnvWS/lib/python3.11/site-packages/tqdm/std.py:805\u001b[0m, in \u001b[0;36mtqdm.pandas.<locals>.inner_generator.<locals>.inner\u001b[0;34m(df, func, *args, **kwargs)\u001b[0m\n\u001b[1;32m    802\u001b[0m \u001b[39m# Apply the provided function (in **kwargs)\u001b[39;00m\n\u001b[1;32m    803\u001b[0m \u001b[39m# on the df using our wrapper (which provides bar updating)\u001b[39;00m\n\u001b[1;32m    804\u001b[0m \u001b[39mtry\u001b[39;00m:\n\u001b[0;32m--> 805\u001b[0m     \u001b[39mreturn\u001b[39;00m \u001b[39mgetattr\u001b[39;49m(df, df_function)(wrapper, \u001b[39m*\u001b[39;49m\u001b[39m*\u001b[39;49mkwargs)\n\u001b[1;32m    806\u001b[0m \u001b[39mfinally\u001b[39;00m:\n\u001b[1;32m    807\u001b[0m     t\u001b[39m.\u001b[39mclose()\n",
      "File \u001b[0;32m~/anaconda3/envs/EnvWS/lib/python3.11/site-packages/pandas/core/series.py:4630\u001b[0m, in \u001b[0;36mSeries.apply\u001b[0;34m(self, func, convert_dtype, args, **kwargs)\u001b[0m\n\u001b[1;32m   4520\u001b[0m \u001b[39mdef\u001b[39;00m \u001b[39mapply\u001b[39m(\n\u001b[1;32m   4521\u001b[0m     \u001b[39mself\u001b[39m,\n\u001b[1;32m   4522\u001b[0m     func: AggFuncType,\n\u001b[0;32m   (...)\u001b[0m\n\u001b[1;32m   4525\u001b[0m     \u001b[39m*\u001b[39m\u001b[39m*\u001b[39mkwargs,\n\u001b[1;32m   4526\u001b[0m ) \u001b[39m-\u001b[39m\u001b[39m>\u001b[39m DataFrame \u001b[39m|\u001b[39m Series:\n\u001b[1;32m   4527\u001b[0m \u001b[39m    \u001b[39m\u001b[39m\"\"\"\u001b[39;00m\n\u001b[1;32m   4528\u001b[0m \u001b[39m    Invoke function on values of Series.\u001b[39;00m\n\u001b[1;32m   4529\u001b[0m \n\u001b[0;32m   (...)\u001b[0m\n\u001b[1;32m   4628\u001b[0m \u001b[39m    dtype: float64\u001b[39;00m\n\u001b[1;32m   4629\u001b[0m \u001b[39m    \"\"\"\u001b[39;00m\n\u001b[0;32m-> 4630\u001b[0m     \u001b[39mreturn\u001b[39;00m SeriesApply(\u001b[39mself\u001b[39;49m, func, convert_dtype, args, kwargs)\u001b[39m.\u001b[39;49mapply()\n",
      "File \u001b[0;32m~/anaconda3/envs/EnvWS/lib/python3.11/site-packages/pandas/core/apply.py:1025\u001b[0m, in \u001b[0;36mSeriesApply.apply\u001b[0;34m(self)\u001b[0m\n\u001b[1;32m   1022\u001b[0m     \u001b[39mreturn\u001b[39;00m \u001b[39mself\u001b[39m\u001b[39m.\u001b[39mapply_str()\n\u001b[1;32m   1024\u001b[0m \u001b[39m# self.f is Callable\u001b[39;00m\n\u001b[0;32m-> 1025\u001b[0m \u001b[39mreturn\u001b[39;00m \u001b[39mself\u001b[39;49m\u001b[39m.\u001b[39;49mapply_standard()\n",
      "File \u001b[0;32m~/anaconda3/envs/EnvWS/lib/python3.11/site-packages/pandas/core/apply.py:1076\u001b[0m, in \u001b[0;36mSeriesApply.apply_standard\u001b[0;34m(self)\u001b[0m\n\u001b[1;32m   1074\u001b[0m     \u001b[39melse\u001b[39;00m:\n\u001b[1;32m   1075\u001b[0m         values \u001b[39m=\u001b[39m obj\u001b[39m.\u001b[39mastype(\u001b[39mobject\u001b[39m)\u001b[39m.\u001b[39m_values\n\u001b[0;32m-> 1076\u001b[0m         mapped \u001b[39m=\u001b[39m lib\u001b[39m.\u001b[39;49mmap_infer(\n\u001b[1;32m   1077\u001b[0m             values,\n\u001b[1;32m   1078\u001b[0m             f,\n\u001b[1;32m   1079\u001b[0m             convert\u001b[39m=\u001b[39;49m\u001b[39mself\u001b[39;49m\u001b[39m.\u001b[39;49mconvert_dtype,\n\u001b[1;32m   1080\u001b[0m         )\n\u001b[1;32m   1082\u001b[0m \u001b[39mif\u001b[39;00m \u001b[39mlen\u001b[39m(mapped) \u001b[39mand\u001b[39;00m \u001b[39misinstance\u001b[39m(mapped[\u001b[39m0\u001b[39m], ABCSeries):\n\u001b[1;32m   1083\u001b[0m     \u001b[39m# GH#43986 Need to do list(mapped) in order to get treated as nested\u001b[39;00m\n\u001b[1;32m   1084\u001b[0m     \u001b[39m#  See also GH#25959 regarding EA support\u001b[39;00m\n\u001b[1;32m   1085\u001b[0m     \u001b[39mreturn\u001b[39;00m obj\u001b[39m.\u001b[39m_constructor_expanddim(\u001b[39mlist\u001b[39m(mapped), index\u001b[39m=\u001b[39mobj\u001b[39m.\u001b[39mindex)\n",
      "File \u001b[0;32m~/anaconda3/envs/EnvWS/lib/python3.11/site-packages/pandas/_libs/lib.pyx:2834\u001b[0m, in \u001b[0;36mpandas._libs.lib.map_infer\u001b[0;34m()\u001b[0m\n",
      "File \u001b[0;32m~/anaconda3/envs/EnvWS/lib/python3.11/site-packages/tqdm/std.py:800\u001b[0m, in \u001b[0;36mtqdm.pandas.<locals>.inner_generator.<locals>.inner.<locals>.wrapper\u001b[0;34m(*args, **kwargs)\u001b[0m\n\u001b[1;32m    794\u001b[0m \u001b[39mdef\u001b[39;00m \u001b[39mwrapper\u001b[39m(\u001b[39m*\u001b[39margs, \u001b[39m*\u001b[39m\u001b[39m*\u001b[39mkwargs):\n\u001b[1;32m    795\u001b[0m     \u001b[39m# update tbar correctly\u001b[39;00m\n\u001b[1;32m    796\u001b[0m     \u001b[39m# it seems `pandas apply` calls `func` twice\u001b[39;00m\n\u001b[1;32m    797\u001b[0m     \u001b[39m# on the first column/row to decide whether it can\u001b[39;00m\n\u001b[1;32m    798\u001b[0m     \u001b[39m# take a fast or slow code path; so stop when t.total==t.n\u001b[39;00m\n\u001b[1;32m    799\u001b[0m     t\u001b[39m.\u001b[39mupdate(n\u001b[39m=\u001b[39m\u001b[39m1\u001b[39m \u001b[39mif\u001b[39;00m \u001b[39mnot\u001b[39;00m t\u001b[39m.\u001b[39mtotal \u001b[39mor\u001b[39;00m t\u001b[39m.\u001b[39mn \u001b[39m<\u001b[39m t\u001b[39m.\u001b[39mtotal \u001b[39melse\u001b[39;00m \u001b[39m0\u001b[39m)\n\u001b[0;32m--> 800\u001b[0m     \u001b[39mreturn\u001b[39;00m func(\u001b[39m*\u001b[39;49margs, \u001b[39m*\u001b[39;49m\u001b[39m*\u001b[39;49mkwargs)\n",
      "\u001b[1;32m/home/weisi/Temporal/data/explore-Amazon.ipynb Cell 23\u001b[0m line \u001b[0;36m4\n\u001b[1;32m      <a href='vscode-notebook-cell://ssh-remote%2B141.225.10.240/home/weisi/Temporal/data/explore-Amazon.ipynb#X35sdnNjb2RlLXJlbW90ZQ%3D%3D?line=1'>2</a>\u001b[0m vgdf_2001 \u001b[39m=\u001b[39m vgdf[vgdf[\u001b[39m'\u001b[39m\u001b[39myear\u001b[39m\u001b[39m'\u001b[39m] \u001b[39m==\u001b[39m \u001b[39m2001\u001b[39m]\u001b[39m#.sample(n=20000)\u001b[39;00m\n\u001b[1;32m      <a href='vscode-notebook-cell://ssh-remote%2B141.225.10.240/home/weisi/Temporal/data/explore-Amazon.ipynb#X35sdnNjb2RlLXJlbW90ZQ%3D%3D?line=2'>3</a>\u001b[0m tqdm\u001b[39m.\u001b[39mpandas()\u001b[39m#sets up the tqdm progress bar for tracking the progress of the following operation\u001b[39;00m\n\u001b[0;32m----> <a href='vscode-notebook-cell://ssh-remote%2B141.225.10.240/home/weisi/Temporal/data/explore-Amazon.ipynb#X35sdnNjb2RlLXJlbW90ZQ%3D%3D?line=3'>4</a>\u001b[0m vgdf_2001\u001b[39m.\u001b[39mreviewText \u001b[39m=\u001b[39m vgdf_2001\u001b[39m.\u001b[39mreviewText\u001b[39m.\u001b[39mprogress_apply(\u001b[39mlambda\u001b[39;00m x: preprocess\u001b[39m.\u001b[39;49mfast_clean(x))\n\u001b[1;32m      <a href='vscode-notebook-cell://ssh-remote%2B141.225.10.240/home/weisi/Temporal/data/explore-Amazon.ipynb#X35sdnNjb2RlLXJlbW90ZQ%3D%3D?line=4'>5</a>\u001b[0m \u001b[39m#join the list of tokens back into a single string with space-separated words.\u001b[39;00m\n\u001b[1;32m      <a href='vscode-notebook-cell://ssh-remote%2B141.225.10.240/home/weisi/Temporal/data/explore-Amazon.ipynb#X35sdnNjb2RlLXJlbW90ZQ%3D%3D?line=5'>6</a>\u001b[0m vgdf_2001\u001b[39m.\u001b[39mreviewText \u001b[39m=\u001b[39m vgdf_2001\u001b[39m.\u001b[39mreviewText\u001b[39m.\u001b[39mapply(\u001b[39mlambda\u001b[39;00m x: \u001b[39m'\u001b[39m\u001b[39m \u001b[39m\u001b[39m'\u001b[39m\u001b[39m.\u001b[39mjoin(x))\n",
      "\u001b[0;31mAttributeError\u001b[0m: module 'dataproc.preprocess' has no attribute 'fast_clean'"
     ]
    }
   ],
   "source": [
    "\n",
    "vgdf_2001 = vgdf[vgdf['year'] == 2001]#.sample(n=20000)\n",
    "tqdm.pandas()#sets up the tqdm progress bar for tracking the progress of the following operation\n",
    "vgdf_2001.reviewText = vgdf_2001.reviewText.progress_apply(lambda x: preprocess.fast_clean(x))\n",
    "#get stucked at 7615,7224,7188,7201/23073... seems like error happened in re.sub(r\"(\\d+)+(\\-)+(\\d+)+(\\-)+(\\d+)\", \"date\", doc), so use a new fast_clean function\n",
    "\n",
    "#join the list of tokens back into a single string with space-separated words.\n",
    "vgdf_2001.reviewText = vgdf_2001.reviewText.apply(lambda x: ' '.join(x))\n",
    "vgdf_2001 = vgdf_2001.rename(columns={\n",
    "    \"overall\": \"label\",\n",
    "    \"reviewText\": \"text\",\n",
    "    \"reviewTime\": \"time\"\n",
    "})\n",
    "#vgdf_2001.to_json('amazonVG_2001.json', orient='records', lines=True)\n",
    "with open('amazonVG.json', 'w') as wfile:\n",
    "    wfile.write(df.to_json(orient='records', lines=True))\n",
    "\n",
    "\n",
    "\n",
    "\n"
   ]
  },
  {
   "cell_type": "code",
   "execution_count": null,
   "metadata": {},
   "outputs": [],
   "source": [
    "vgdf_2002 = vgdf[vgdf['year'] == 2002]#.sample(n=20000)\n",
    "tqdm.pandas()#sets up the tqdm progress bar for tracking the progress of the following operation\n",
    "vgdf_2002.reviewText = vgdf_2002.reviewText.progress_apply(lambda x: preprocess.clean_and_tokenize(x))\n",
    "#join the list of tokens back into a single string with space-separated words.\n",
    "vgdf_2002.reviewText = vgdf_2002.reviewText.apply(lambda x: ' '.join(x))\n",
    "vgdf_2002 = vgdf_2002.rename(columns={\n",
    "    \"overall\": \"label\",\n",
    "    \"reviewText\": \"text\",\n",
    "    \"reviewTime\": \"time\"\n",
    "})\n",
    "vgdf_2002.to_json('amazonVG_2002.json', orient='records', lines=True)"
   ]
  },
  {
   "cell_type": "code",
   "execution_count": null,
   "metadata": {},
   "outputs": [],
   "source": [
    "#print(vgdf_2001.at[7615,'reviewText'])\n",
    "print(vgdf_2001.iloc[7223]['reviewText'])\n"
   ]
  },
  {
   "cell_type": "code",
   "execution_count": null,
   "metadata": {},
   "outputs": [],
   "source": [
    "# randomly select 2000 data from 2018\n",
    "vgdf_2018_sample = vgdf[vgdf['year'] == 2018].sample(n=2000)\n",
    "tqdm.pandas()#sets up the tqdm progress bar for tracking the progress of the following operation\n",
    "vgdf_2018_sample.reviewText = vgdf_2018_sample.reviewText.progress_apply(lambda x: preprocess.clean_and_tokenize(x))\n",
    "#join the list of tokens back into a single string with space-separated words.\n",
    "vgdf_2018_sample.reviewText = vgdf_2018_sample.reviewText.apply(lambda x: ' '.join(x))\n",
    "\n",
    "vgdf_2018_sample = vgdf_2018_sample.rename(columns={\n",
    "    \"overall\": \"label\",\n",
    "    \"reviewText\": \"text\",\n",
    "    \"reviewTime\": \"time\"\n",
    "})\n",
    "vgdf_2018_sample.to_json('amazonVG_2018_samples_2k.json', orient='records', lines=True)"
   ]
  },
  {
   "cell_type": "code",
   "execution_count": null,
   "metadata": {},
   "outputs": [],
   "source": [
    "# Write the dataframe to a JSON file\n",
    "with open('amazonVG.json', 'w') as wfile:\n",
    "    wfile.write(df.to_json(orient='records', lines=True))"
   ]
  }
 ],
 "metadata": {
  "kernelspec": {
   "display_name": "Python 3 (ipykernel)",
   "language": "python",
   "name": "python3"
  },
  "language_info": {
   "codemirror_mode": {
    "name": "ipython",
    "version": 3
   },
   "file_extension": ".py",
   "mimetype": "text/x-python",
   "name": "python",
   "nbconvert_exporter": "python",
   "pygments_lexer": "ipython3",
   "version": "3.11.5"
  }
 },
 "nbformat": 4,
 "nbformat_minor": 2
}
